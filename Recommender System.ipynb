{
 "cells": [
  {
   "cell_type": "code",
   "execution_count": 1,
   "id": "f6462fbb",
   "metadata": {},
   "outputs": [
    {
     "name": "stderr",
     "output_type": "stream",
     "text": [
      "C:\\Users\\Adiraj\\AppData\\Local\\Temp\\ipykernel_8804\\3738986019.py:40: SettingWithCopyWarning: \n",
      "A value is trying to be set on a copy of a slice from a DataFrame.\n",
      "Try using .loc[row_indexer,col_indexer] = value instead\n",
      "\n",
      "See the caveats in the documentation: https://pandas.pydata.org/pandas-docs/stable/user_guide/indexing.html#returning-a-view-versus-a-copy\n",
      "  FinalMovies['tag'] = FinalMovies['tag'].apply(stems)\n"
     ]
    }
   ],
   "source": [
    "import numpy as np\n",
    "import pandas as pd\n",
    "import matplotlib.pyplot as plt\n",
    "import os\n",
    "import nltk\n",
    "from nltk.stem import PorterStemmer\n",
    "from sklearn.feature_extraction.text import CountVectorizer\n",
    "from sklearn.neighbors import NearestNeighbors\n",
    "import pickle\n",
    "\n",
    "final_movies_path = 'artifacts/FinalMovies.pkl'\n",
    "cv_path = 'artifacts/cv.pkl'\n",
    "\n",
    "if os.path.exists(final_movies_path) and os.path.exists(cv_path):\n",
    "    with open(final_movies_path, 'rb') as f:\n",
    "        FinalMovies = pickle.load(f)\n",
    "    with open(cv_path, 'rb') as f:\n",
    "        cv = pickle.load(f)\n",
    "    vectors = cv.transform(FinalMovies['tag'])\n",
    "else:\n",
    "    movie = pd.read_csv('data/1M Movies Dataset TMDB_movie_dataset_v11.csv')\n",
    "    moviesIMP = movie[['id', 'title', 'overview', 'genres', 'tagline', 'keywords']].dropna()\n",
    "    moviesIMP.dropna(inplace=True)\n",
    "\n",
    "    def remove_spaces(word):\n",
    "        if isinstance(word, list):\n",
    "            return [i.replace(\" \", \"\") for i in word]\n",
    "        return word\n",
    "\n",
    "    moviesIMP['genres'] = moviesIMP['genres'].apply(remove_spaces)\n",
    "    moviesIMP['tag'] = moviesIMP['overview'] + ' ' + moviesIMP['genres'] + ' ' + moviesIMP['keywords'] + ' ' + moviesIMP['title'] + ' ' + moviesIMP['tagline']\n",
    "    FinalMovies = moviesIMP[['id', 'title', 'tag']]\n",
    "\n",
    "    ps = PorterStemmer()\n",
    "    def stems(text):\n",
    "        l = []\n",
    "        for i in text.split():\n",
    "            l.append(ps.stem(i))\n",
    "        return \" \".join(l)\n",
    "    FinalMovies['tag'] = FinalMovies['tag'].apply(stems)\n",
    "\n",
    "    cv = CountVectorizer(max_features=5000)\n",
    "    vectors = cv.fit_transform(FinalMovies['tag'])\n",
    "\n",
    "    os.makedirs('artifacts', exist_ok=True)\n",
    "    with open(final_movies_path, 'wb') as f:\n",
    "        pickle.dump(FinalMovies, f)\n",
    "    with open(cv_path, 'wb') as f:\n",
    "        pickle.dump(cv, f)\n",
    "\n",
    "nn = NearestNeighbors(metric='cosine', algorithm='brute')\n",
    "nn.fit(vectors)\n",
    "\n",
    "def recommend(movie_title, n_recommendations=5):\n",
    "    idx = FinalMovies[FinalMovies['title'].str.lower() == movie_title.lower()].index\n",
    "    if len(idx) == 0:\n",
    "        print(\"Movie not found in the dataset.\")\n",
    "        return\n",
    "    idx = idx[0]\n",
    "    distances, indices = nn.kneighbors(vectors[idx], n_neighbors=n_recommendations+1)\n",
    "    print(f\"Recommendations for '{FinalMovies.iloc[idx]['title']}':\")\n",
    "    for i in range(1, n_recommendations+1):\n",
    "        print(FinalMovies.iloc[indices[0][i]]['title'])\n"
   ]
  }
 ],
 "metadata": {
  "kernelspec": {
   "display_name": "Python 3",
   "language": "python",
   "name": "python3"
  },
  "language_info": {
   "codemirror_mode": {
    "name": "ipython",
    "version": 3
   },
   "file_extension": ".py",
   "mimetype": "text/x-python",
   "name": "python",
   "nbconvert_exporter": "python",
   "pygments_lexer": "ipython3",
   "version": "3.13.3"
  }
 },
 "nbformat": 4,
 "nbformat_minor": 5
}
